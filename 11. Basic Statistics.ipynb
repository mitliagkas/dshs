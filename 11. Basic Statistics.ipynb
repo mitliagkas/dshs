{
 "metadata": {
  "name": "",
  "signature": "sha256:45314a678506e3cf258e51f1173e3f41ff57911dc1d9fef51939891e34af637d"
 },
 "nbformat": 3,
 "nbformat_minor": 0,
 "worksheets": [
  {
   "cells": [
    {
     "cell_type": "code",
     "collapsed": false,
     "input": [
      "import numpy as np\n",
      "import pandas as pd"
     ],
     "language": "python",
     "metadata": {},
     "outputs": [],
     "prompt_number": 1
    },
    {
     "cell_type": "code",
     "collapsed": false,
     "input": [
      "# Set some Pandas options\n",
      "pd.set_option('html', False)\n",
      "pd.set_option('max_columns', 30)\n",
      "pd.set_option('max_rows', 10)"
     ],
     "language": "python",
     "metadata": {},
     "outputs": []
    },
    {
     "cell_type": "code",
     "collapsed": false,
     "input": [
      "data = pd.read_hdf('/var/datasets/dshs/CD2007Q1/reduced_PUDF_base1q2007.h5','data')"
     ],
     "language": "python",
     "metadata": {},
     "outputs": [],
     "prompt_number": 2
    },
    {
     "cell_type": "code",
     "collapsed": false,
     "input": [
      "diagnosisView = data[['Admitting_Diagnosis', 'Princ_Diag_Code'] + ['Oth_Diag_Code_'+str(i) for i in range(1,25)]]\n",
      "diagnosis = diagnosisView.copy()\n",
      "diagnosis\n",
      "diagnosis.count()\n",
      "cnt = diagnosis.count().values\n",
      "cnt\n",
      "diff = cnt[:-1]-cnt[1:]\n",
      "diff\n",
      "diff = np.append(diff,cnt[-1])\n",
      "diff\n",
      "trigrams=[diff[i-1]*i*(i-1)*(i-2)/6 for i in range(3, 27)]\n",
      "trigrams\n",
      "sum(trigrams)"
     ],
     "language": "python",
     "metadata": {},
     "outputs": [
      {
       "metadata": {},
       "output_type": "pyout",
       "prompt_number": 3,
       "text": [
        "95891726"
       ]
      }
     ],
     "prompt_number": 3
    },
    {
     "cell_type": "code",
     "collapsed": false,
     "input": [],
     "language": "python",
     "metadata": {},
     "outputs": []
    }
   ],
   "metadata": {}
  }
 ]
}