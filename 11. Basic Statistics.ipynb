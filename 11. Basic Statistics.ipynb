{
 "metadata": {
  "name": "",
  "signature": "sha256:73b3bbfe48f727a205d952583a132ee6474ed040f9380efcc806928ded5771ea"
 },
 "nbformat": 3,
 "nbformat_minor": 0,
 "worksheets": [
  {
   "cells": [
    {
     "cell_type": "heading",
     "level": 3,
     "metadata": {},
     "source": [
      "Setup and load data."
     ]
    },
    {
     "cell_type": "code",
     "collapsed": false,
     "input": [
      "import numpy as np\n",
      "import pandas as pd"
     ],
     "language": "python",
     "metadata": {},
     "outputs": [],
     "prompt_number": 1
    },
    {
     "cell_type": "code",
     "collapsed": false,
     "input": [
      "# Set some Pandas options\n",
      "pd.set_option('html', False)\n",
      "pd.set_option('max_columns', 30)\n",
      "pd.set_option('max_rows', 10)"
     ],
     "language": "python",
     "metadata": {},
     "outputs": []
    },
    {
     "cell_type": "heading",
     "level": 4,
     "metadata": {},
     "source": [
      "Using 2007 Q1 for now"
     ]
    },
    {
     "cell_type": "code",
     "collapsed": true,
     "input": [
      "data = pd.read_hdf('/var/datasets/dshs/CD2007Q1/reduced_PUDF_base1q2007.h5','data')"
     ],
     "language": "python",
     "metadata": {},
     "outputs": [],
     "prompt_number": 2
    },
    {
     "cell_type": "heading",
     "level": 4,
     "metadata": {},
     "source": [
      "It consists of ~740K claims."
     ]
    },
    {
     "cell_type": "code",
     "collapsed": false,
     "input": [
      "data.Discharge.count()"
     ],
     "language": "python",
     "metadata": {},
     "outputs": [
      {
       "metadata": {},
       "output_type": "pyout",
       "prompt_number": 8,
       "text": [
        "740288"
       ]
      }
     ],
     "prompt_number": 8
    },
    {
     "cell_type": "heading",
     "level": 4,
     "metadata": {},
     "source": [
      "It can be used to create about 96M diagnosis triplets. "
     ]
    },
    {
     "cell_type": "code",
     "collapsed": false,
     "input": [
      "diagnosisView = data[['Admitting_Diagnosis', 'Princ_Diag_Code'] + ['Oth_Diag_Code_'+str(i) for i in range(1,25)]]\n",
      "diagnosis = diagnosisView.copy()\n",
      "diagnosis.count()\n",
      "cnt = diagnosis.count().values\n",
      "diff = cnt[:-1]-cnt[1:]\n",
      "diff = np.append(diff,cnt[-1])\n",
      "trigrams=[diff[i-1]*i*(i-1)*(i-2)/6 for i in range(3, 27)]\n",
      "trigrams\n",
      "sum(trigrams)"
     ],
     "language": "python",
     "metadata": {},
     "outputs": [
      {
       "metadata": {},
       "output_type": "pyout",
       "prompt_number": 9,
       "text": [
        "95891726"
       ]
      }
     ],
     "prompt_number": 9
    },
    {
     "cell_type": "heading",
     "level": 5,
     "metadata": {},
     "source": [
      "The above is sligtly incorrect as there are repetitions in the list of codes for every claim. Most importantly:"
     ]
    },
    {
     "cell_type": "code",
     "collapsed": false,
     "input": [
      "sum(data.Admitting_Diagnosis == data.Princ_Diag_Code)"
     ],
     "language": "python",
     "metadata": {},
     "outputs": [
      {
       "metadata": {},
       "output_type": "pyout",
       "prompt_number": 4,
       "text": [
        "411890"
       ]
      }
     ],
     "prompt_number": 4
    },
    {
     "cell_type": "heading",
     "level": 4,
     "metadata": {},
     "source": [
      "Other stats to consider:"
     ]
    },
    {
     "cell_type": "markdown",
     "metadata": {},
     "source": [
      "- Major hospitals\n",
      "- Popular diagnoses\n",
      "- Basic demographics\n",
      "- Rural vs urban"
     ]
    },
    {
     "cell_type": "code",
     "collapsed": false,
     "input": [],
     "language": "python",
     "metadata": {},
     "outputs": []
    }
   ],
   "metadata": {}
  }
 ]
}